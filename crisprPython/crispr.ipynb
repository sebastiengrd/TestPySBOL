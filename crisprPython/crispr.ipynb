{
 "cells": [
  {
   "cell_type": "code",
   "execution_count": 18,
   "metadata": {},
   "outputs": [],
   "source": [
    "#folowed this tutorial : https://sbolstandard.org/wp-content/uploads/2018/05/pysbol-crispr-tutorial_v2.pdf\n",
    "\n",
    "from sbol import *\n",
    "\n",
    "setHomespace('bioTalent') #signature\n",
    "doc = Document()"
   ]
  },
  {
   "cell_type": "code",
   "execution_count": 19,
   "metadata": {},
   "outputs": [],
   "source": [
    "#create ComponentDefinition for cas9_generic protein\n",
    "cas9_generic = ComponentDefinition('cas9_generic', BIOPAX_PROTEIN)\n",
    "doc.addComponentDefinition(cas9_generic)\n",
    "\n",
    "#Create ComponentDefinition for gRNA_generic RNA\n",
    "gRNA_generic = ComponentDefinition('gRNA_generic', BIOPAX_RNA)\n",
    "gRNA_generic.roles = SO_SGRNA\n",
    "doc.addComponentDefinition(gRNA_generic)\n",
    "\n",
    "#create ComponentDefinition for cas9_gRNA_complex\n",
    "cas9_gRNA_complex = ComponentDefinition('cas9_gRNA_complex', BIOPAX_COMPLEX)\n",
    "doc.addComponentDefinition(cas9_gRNA_complex)\n",
    "\n",
    "#create ComponentDefinition for target gene\n",
    "target_gene = ComponentDefinition('target_gene', BIOPAX_DNA)\n",
    "target_gene.roles = SO_PROMOTER\n",
    "doc.addComponentDefinition(target_gene)\n",
    "\n",
    "#create ComponentDefinition for target protein\n",
    "target = ComponentDefinition('target', BIOPAX_PROTEIN)\n",
    "doc.addComponentDefinition(target)\n",
    "\n",
    "#create ModuleDefinition for CRISPR_Repression_Template\n",
    "CRISPR_Template = ModuleDefinition('CRISPR_Template')\n",
    "doc.addModuleDefinition(CRISPR_Template)"
   ]
  },
  {
   "cell_type": "code",
   "execution_count": 20,
   "metadata": {},
   "outputs": [],
   "source": [
    "Cas9Complex_Formation = CRISPR_Template.interactions.create('cas9_complex_formation')\n",
    "Cas9Complex_Formation.types = SBO_NONCOVALENT_BINDING\n",
    "\n",
    "cas9_generic_fc = CRISPR_Template.functionalComponents.create('cas9_generic')\n",
    "cas9_generic_fc.definition = cas9_generic.identity\n",
    "cas9_generic_fc.access = SBOL_ACCESS_PUBLIC\n",
    "cas9_generic_fc.direction = SBOL_DIRECTION_IN_OUT\n",
    "\n",
    "cas9_generic_participation = Cas9Complex_Formation.participations.create('cas9_generic')\n",
    "cas9_generic_participation.roles = SBO_REACTANT\n",
    "cas9_generic_participation.participant = cas9_generic_fc.identity\n",
    "\n",
    "gRNA_generic_fc = CRISPR_Template.functionalComponents.create('gRNA_generic')\n",
    "gRNA_generic_fc.definition = gRNA_generic.identity\n",
    "gRNA_generic_fc.access = SBOL_ACCESS_PUBLIC\n",
    "gRNA_generic_fc.direction = SBOL_DIRECTION_IN_OUT\n",
    "\n",
    "gRNA_generic_participation = Cas9Complex_Formation.participations.create('gRNA_generic')\n",
    "gRNA_generic_participation.roles = SBO_REACTANT\n",
    "gRNA_generic_participation.participant = gRNA_generic_fc.identity\n",
    "\n",
    "cas9_gRNA_complex_fc = CRISPR_Template.functionalComponents.create('cas9_gRNA_complex')\n",
    "cas9_gRNA_complex_fc.definition = cas9_gRNA_complex.identity\n",
    "cas9_gRNA_complex_fc.access = SBOL_ACCESS_PUBLIC\n",
    "cas9_gRNA_complex_fc.direction = SBOL_DIRECTION_IN_OUT\n",
    "\n",
    "cas9_gRNA_complex_participation = Cas9Complex_Formation.participations.create('cas9_gRNA_complex')\n",
    "cas9_gRNA_complex_participation.roles = SBO_PRODUCT\n",
    "cas9_gRNA_complex_participation.participant = cas9_gRNA_complex_fc.identity"
   ]
  },
  {
   "cell_type": "code",
   "execution_count": 21,
   "metadata": {},
   "outputs": [],
   "source": [
    "#prodution of target from target gene\n",
    "EYFP_production = CRISPR_Template.interactions.create('target_production')\n",
    "EYFP_production.types = SBO_GENETIC_PRODUCTION\n",
    "\n",
    "target_gene_fc = CRISPR_Template.functionalComponents.create('target_gene')\n",
    "target_gene_fc.definition = target_gene.identity\n",
    "target_gene_fc.access = SBOL_ACCESS_PUBLIC\n",
    "target_gene_fc.direction = SBOL_DIRECTION_IN_OUT\n",
    "\n",
    "target_gene_participation = EYFP_production.participations.create('target_gene')\n",
    "target_gene_participation.roles = SBO_PROMOTER\n",
    "target_gene_participation.participant = target_gene_fc.identity\n",
    "\n",
    "target_fc = CRISPR_Template.functionalComponents.create('target')\n",
    "target_fc.definition = target.identity\n",
    "target_fc.access = SBOL_ACCESS_PUBLIC\n",
    "target_fc.direction = SBOL_DIRECTION_IN_OUT\n",
    "\n",
    "target_participation = EYFP_production.participations.create('target')\n",
    "target_participation.roles = SBO_PRODUCT\n",
    "target_participation.participant = target_fc.identity\n",
    "\n",
    "#inhibition of target by cas9m_gRNA\n",
    "target_generic_gene_inhibition = CRISPR_Template.interactions.create('target_gene_inhibition')\n",
    "target_generic_gene_inhibition.types = SBO_INHIBITION\n",
    "\n",
    "cas9_gRNA_complex_participation1 = target_generic_gene_inhibition.participations.create('cas9_gRNA_complex')\n",
    "cas9_gRNA_complex_participation1.roles = SBO_INHIBITOR\n",
    "cas9_gRNA_complex_participation1.participants = cas9_gRNA_complex_fc.identity\n",
    "\n",
    "cas9_gRNA_complex_participation2 = target_generic_gene_inhibition.participations.create('target_gene')\n",
    "cas9_gRNA_complex_participation2.roles = SBO_PROMOTER\n",
    "cas9_gRNA_complex_participation2.participant = target_gene_fc.identity"
   ]
  },
  {
   "cell_type": "code",
   "execution_count": null,
   "metadata": {},
   "outputs": [],
   "source": []
  }
 ],
 "metadata": {
  "kernelspec": {
   "display_name": "venv",
   "language": "python",
   "name": "venv"
  },
  "language_info": {
   "codemirror_mode": {
    "name": "ipython",
    "version": 3
   },
   "file_extension": ".py",
   "mimetype": "text/x-python",
   "name": "python",
   "nbconvert_exporter": "python",
   "pygments_lexer": "ipython3",
   "version": "3.6.9"
  }
 },
 "nbformat": 4,
 "nbformat_minor": 2
}
